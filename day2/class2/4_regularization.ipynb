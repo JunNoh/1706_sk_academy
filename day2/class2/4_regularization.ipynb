{
 "cells": [
  {
   "cell_type": "markdown",
   "metadata": {},
   "source": [
    "Regularization\n",
    "============="
   ]
  },
  {
   "cell_type": "code",
   "execution_count": 1,
   "metadata": {
    "collapsed": true
   },
   "outputs": [],
   "source": [
    "from __future__ import print_function\n",
    "import numpy as np\n",
    "import tensorflow as tf\n",
    "from six.moves import cPickle as pickle"
   ]
  },
  {
   "cell_type": "code",
   "execution_count": 2,
   "metadata": {
    "collapsed": false
   },
   "outputs": [
    {
     "name": "stdout",
     "output_type": "stream",
     "text": [
      "Training set (100000, 28, 28) (100000,)\n",
      "Validation set (10000, 28, 28) (10000,)\n",
      "Test set (10000, 28, 28) (10000,)\n"
     ]
    }
   ],
   "source": [
    "pickle_file = 'notMNIST.pickle'\n",
    "\n",
    "with open(pickle_file, 'rb') as f:\n",
    "  save = pickle.load(f)\n",
    "  train_dataset = save['train_dataset']\n",
    "  train_labels = save['train_labels']\n",
    "  valid_dataset = save['valid_dataset']\n",
    "  valid_labels = save['valid_labels']\n",
    "  test_dataset = save['test_dataset']\n",
    "  test_labels = save['test_labels']\n",
    "\n",
    "  print('Training set', train_dataset.shape, train_labels.shape)\n",
    "  print('Validation set', valid_dataset.shape, valid_labels.shape)\n",
    "  print('Test set', test_dataset.shape, test_labels.shape)"
   ]
  },
  {
   "cell_type": "code",
   "execution_count": 3,
   "metadata": {
    "collapsed": false
   },
   "outputs": [
    {
     "name": "stdout",
     "output_type": "stream",
     "text": [
      "Training set (100000, 784) (100000, 10)\n",
      "Validation set (10000, 784) (10000, 10)\n",
      "Test set (10000, 784) (10000, 10)\n"
     ]
    }
   ],
   "source": [
    "image_size = 28\n",
    "num_labels = 10\n",
    "\n",
    "def reformat(dataset, labels):\n",
    "  dataset = dataset.reshape((-1, image_size * image_size)).astype(np.float32)\n",
    "  labels = (np.arange(num_labels) == labels[:,None]).astype(np.float32)\n",
    "  return dataset, labels\n",
    "\n",
    "train_dataset, train_labels = reformat(train_dataset, train_labels)\n",
    "valid_dataset, valid_labels = reformat(valid_dataset, valid_labels)\n",
    "test_dataset, test_labels = reformat(test_dataset, test_labels)\n",
    "\n",
    "print('Training set', train_dataset.shape, train_labels.shape)\n",
    "print('Validation set', valid_dataset.shape, valid_labels.shape)\n",
    "print('Test set', test_dataset.shape, test_labels.shape)"
   ]
  },
  {
   "cell_type": "code",
   "execution_count": 4,
   "metadata": {
    "collapsed": true
   },
   "outputs": [],
   "source": [
    "def accuracy(predictions, labels):\n",
    "  return (100.0 * np.sum(np.argmax(predictions, 1) == np.argmax(labels, 1)) / predictions.shape[0])"
   ]
  },
  {
   "cell_type": "markdown",
   "metadata": {},
   "source": [
    "Let's demonstrate an extreme case of overfitting. Restrict the training set to just a few batches and make a neural network model as before."
   ]
  },
  {
   "cell_type": "code",
   "execution_count": 6,
   "metadata": {
    "collapsed": false
   },
   "outputs": [],
   "source": [
    "seed = 22\n",
    "batch_size = 128\n",
    "size_of_hidden = 1024\n",
    "\n",
    "graph = tf.Graph()\n",
    "with graph.as_default():\n",
    "  tf_train_dataset = tf.placeholder(tf.float32, shape=(batch_size, image_size * image_size))\n",
    "  tf_train_labels = tf.placeholder(tf.float32, shape=(batch_size, num_labels))\n",
    "  tf_valid_dataset = tf.constant(valid_dataset)\n",
    "  tf_test_dataset = tf.constant(test_dataset)\n",
    "\n",
    "  weights_1 = tf.Variable(tf.truncated_normal([image_size * image_size, size_of_hidden], seed=seed))\n",
    "  biases_1 = tf.Variable(tf.zeros([size_of_hidden]))\n",
    "  logits_1 = tf.matmul(tf_train_dataset, weights_1) + biases_1\n",
    "  output_1 = tf.nn.relu(logits_1)\n",
    "\n",
    "  weights_2 = tf.Variable(tf.truncated_normal([size_of_hidden, num_labels], seed=seed))\n",
    "  biases_2 = tf.Variable(tf.zeros([num_labels]))\n",
    "  logits_2 = tf.matmul(output_1, weights_2) + biases_2\n",
    "\n",
    "  loss = tf.reduce_mean(\n",
    "    tf.nn.softmax_cross_entropy_with_logits(logits=logits_2, labels=tf_train_labels))\n",
    "  \n",
    "  optimizer = tf.train.GradientDescentOptimizer(0.5).minimize(loss)\n",
    "  \n",
    "  train_prediction = tf.nn.softmax(logits_2)\n",
    "  valid_prediction = tf.nn.softmax(tf.matmul(\n",
    "    tf.nn.relu(tf.matmul(tf_valid_dataset,weights_1) + biases_1),\n",
    "    weights_2) + biases_2)\n",
    "  test_prediction = tf.nn.softmax(tf.matmul(\n",
    "    tf.nn.relu(tf.matmul(tf_test_dataset,weights_1) + biases_1),\n",
    "    weights_2) + biases_2)"
   ]
  },
  {
   "cell_type": "markdown",
   "metadata": {},
   "source": [
    "Only use the 1/500 training dataset (= 200 images)."
   ]
  },
  {
   "cell_type": "code",
   "execution_count": 7,
   "metadata": {
    "collapsed": false
   },
   "outputs": [
    {
     "name": "stdout",
     "output_type": "stream",
     "text": [
      "WARNING:tensorflow:From <ipython-input-7-5c903d2a97c4>:4: initialize_all_variables (from tensorflow.python.ops.variables) is deprecated and will be removed after 2017-03-02.\n",
      "Instructions for updating:\n",
      "Use `tf.global_variables_initializer` instead.\n",
      "Initialized\n",
      "Minibatch loss at step 0: 324.513062\n",
      "Minibatch accuracy: 18.8%\n",
      "Validation accuracy: 33.8%\n",
      "Minibatch loss at step 500: 0.000000\n",
      "Minibatch accuracy: 100.0%\n",
      "Validation accuracy: 70.6%\n",
      "Minibatch loss at step 1000: 0.000000\n",
      "Minibatch accuracy: 100.0%\n",
      "Validation accuracy: 70.6%\n",
      "Minibatch loss at step 1500: 0.000000\n",
      "Minibatch accuracy: 100.0%\n",
      "Validation accuracy: 70.6%\n",
      "Minibatch loss at step 2000: 0.000000\n",
      "Minibatch accuracy: 100.0%\n",
      "Validation accuracy: 70.6%\n",
      "Minibatch loss at step 2500: 0.000000\n",
      "Minibatch accuracy: 100.0%\n",
      "Validation accuracy: 70.6%\n",
      "Minibatch loss at step 3000: 0.000000\n",
      "Minibatch accuracy: 100.0%\n",
      "Validation accuracy: 70.6%\n",
      "Test accuracy: 77.3%\n"
     ]
    }
   ],
   "source": [
    "num_steps = 3001\n",
    "\n",
    "with tf.Session(graph=graph) as session:\n",
    "  tf.initialize_all_variables().run()\n",
    "  print(\"Initialized\")\n",
    "    \n",
    "  for step in range(num_steps):\n",
    "    offset = (step * batch_size) % (train_labels.shape[0]/500 - batch_size)\n",
    "\n",
    "    batch_data = train_dataset[offset:(offset + batch_size), :]\n",
    "    batch_labels = train_labels[offset:(offset + batch_size), :]\n",
    "\n",
    "    feed_dict = {tf_train_dataset : batch_data, tf_train_labels : batch_labels}\n",
    "    _, l, predictions = session.run([optimizer, loss, train_prediction], feed_dict=feed_dict)\n",
    "    \n",
    "    if (step % 500 == 0):\n",
    "      print(\"Minibatch loss at step %d: %f\" % (step, l))\n",
    "      print(\"Minibatch accuracy: %.1f%%\" % accuracy(predictions, batch_labels))\n",
    "      print(\"Validation accuracy: %.1f%%\" % accuracy(valid_prediction.eval(), valid_labels))\n",
    "    \n",
    "  print(\"Test accuracy: %.1f%%\" % accuracy(test_prediction.eval(), test_labels))"
   ]
  },
  {
   "cell_type": "markdown",
   "metadata": {},
   "source": [
    "Introduce L2 regularization method for neural network model. Add L2 penalty on the norm of the weights to the loss function."
   ]
  },
  {
   "cell_type": "code",
   "execution_count": 11,
   "metadata": {
    "collapsed": false
   },
   "outputs": [],
   "source": [
    "seed = 22\n",
    "batch_size = 128\n",
    "size_of_hidden = 1024\n",
    "l2_lambda = 0.01\n",
    "\n",
    "graph = tf.Graph()\n",
    "with graph.as_default():\n",
    "  tf_train_dataset = tf.placeholder(tf.float32, shape=(batch_size, image_size * image_size))\n",
    "  tf_train_labels = tf.placeholder(tf.float32, shape=(batch_size, num_labels))\n",
    "  tf_valid_dataset = tf.constant(valid_dataset)\n",
    "  tf_test_dataset = tf.constant(test_dataset)\n",
    "\n",
    "  weights_1 = tf.Variable(tf.truncated_normal([image_size * image_size, size_of_hidden], seed=seed))\n",
    "  biases_1 = tf.Variable(tf.zeros([size_of_hidden]))\n",
    "  logits_1 = tf.matmul(tf_train_dataset, weights_1) + biases_1\n",
    "  output_1 = tf.nn.relu(logits_1)\n",
    "\n",
    "  weights_2 = tf.Variable(tf.truncated_normal([size_of_hidden, num_labels], seed=seed))\n",
    "  biases_2 = tf.Variable(tf.zeros([num_labels]))\n",
    "  logits_2 = tf.matmul(output_1, weights_2) + biases_2\n",
    "\n",
    "  loss = tf.reduce_mean(\n",
    "    tf.nn.softmax_cross_entropy_with_logits(logits=logits_2, labels=tf_train_labels)) \\\n",
    "    + l2_lambda * (tf.nn.l2_loss(weights_1) + tf.nn.l2_loss(weights_2))\n",
    "  \n",
    "  optimizer = tf.train.GradientDescentOptimizer(0.5).minimize(loss)\n",
    "  \n",
    "  train_prediction = tf.nn.softmax(logits_2)\n",
    "  valid_prediction = tf.nn.softmax(tf.matmul(\n",
    "    tf.nn.relu(tf.matmul(tf_valid_dataset,weights_1) + biases_1),\n",
    "    weights_2) + biases_2)\n",
    "  test_prediction = tf.nn.softmax(tf.matmul(\n",
    "    tf.nn.relu(tf.matmul(tf_test_dataset,weights_1) + biases_1),\n",
    "    weights_2) + biases_2)"
   ]
  },
  {
   "cell_type": "code",
   "execution_count": 12,
   "metadata": {
    "collapsed": false
   },
   "outputs": [
    {
     "name": "stdout",
     "output_type": "stream",
     "text": [
      "WARNING:tensorflow:From <ipython-input-12-5c903d2a97c4>:4: initialize_all_variables (from tensorflow.python.ops.variables) is deprecated and will be removed after 2017-03-02.\n",
      "Instructions for updating:\n",
      "Use `tf.global_variables_initializer` instead.\n",
      "Initialized\n",
      "Minibatch loss at step 0: 3475.580078\n",
      "Minibatch accuracy: 18.8%\n",
      "Validation accuracy: 33.7%\n",
      "Minibatch loss at step 500: 21.009052\n",
      "Minibatch accuracy: 100.0%\n",
      "Validation accuracy: 72.5%\n",
      "Minibatch loss at step 1000: 0.345960\n",
      "Minibatch accuracy: 100.0%\n",
      "Validation accuracy: 73.3%\n",
      "Minibatch loss at step 1500: 0.189248\n",
      "Minibatch accuracy: 100.0%\n",
      "Validation accuracy: 73.5%\n",
      "Minibatch loss at step 2000: 0.178698\n",
      "Minibatch accuracy: 100.0%\n",
      "Validation accuracy: 73.4%\n",
      "Minibatch loss at step 2500: 0.176944\n",
      "Minibatch accuracy: 100.0%\n",
      "Validation accuracy: 73.4%\n",
      "Minibatch loss at step 3000: 0.173916\n",
      "Minibatch accuracy: 100.0%\n",
      "Validation accuracy: 73.3%\n",
      "Test accuracy: 79.6%\n"
     ]
    }
   ],
   "source": [
    "num_steps = 3001\n",
    "\n",
    "with tf.Session(graph=graph) as session:\n",
    "  tf.initialize_all_variables().run()\n",
    "  print(\"Initialized\")\n",
    "    \n",
    "  for step in range(num_steps):\n",
    "    offset = (step * batch_size) % (train_labels.shape[0]/500 - batch_size)\n",
    "\n",
    "    batch_data = train_dataset[offset:(offset + batch_size), :]\n",
    "    batch_labels = train_labels[offset:(offset + batch_size), :]\n",
    "\n",
    "    feed_dict = {tf_train_dataset : batch_data, tf_train_labels : batch_labels}\n",
    "    _, l, predictions = session.run([optimizer, loss, train_prediction], feed_dict=feed_dict)\n",
    "    \n",
    "    if (step % 500 == 0):\n",
    "      print(\"Minibatch loss at step %d: %f\" % (step, l))\n",
    "      print(\"Minibatch accuracy: %.1f%%\" % accuracy(predictions, batch_labels))\n",
    "      print(\"Validation accuracy: %.1f%%\" % accuracy(valid_prediction.eval(), valid_labels))\n",
    "    \n",
    "  print(\"Test accuracy: %.1f%%\" % accuracy(test_prediction.eval(), test_labels))"
   ]
  },
  {
   "cell_type": "markdown",
   "metadata": {},
   "source": [
    "Introduce Dropout on the hidden layer of the neural network. Remember that Dropout should only be introduced during training, not evaluation."
   ]
  },
  {
   "cell_type": "code",
   "execution_count": 13,
   "metadata": {
    "collapsed": true
   },
   "outputs": [],
   "source": [
    "seed = 22\n",
    "batch_size = 128\n",
    "size_of_hidden = 1024\n",
    "l2_lambda = 0\n",
    "keep_prob = 0.5\n",
    "\n",
    "graph = tf.Graph()\n",
    "with graph.as_default():\n",
    "  tf_train_dataset = tf.placeholder(tf.float32, shape=(batch_size, image_size * image_size))\n",
    "  tf_train_labels = tf.placeholder(tf.float32, shape=(batch_size, num_labels))\n",
    "  tf_valid_dataset = tf.constant(valid_dataset)\n",
    "  tf_test_dataset = tf.constant(test_dataset)\n",
    "\n",
    "  # First Layer\n",
    "  weights_1 = tf.Variable(tf.truncated_normal([image_size * image_size, size_of_hidden], seed=seed))\n",
    "  biases_1 = tf.Variable(tf.zeros([size_of_hidden]))\n",
    "  logits_1 = tf.matmul(tf_train_dataset, weights_1) + biases_1\n",
    "  output_1 = tf.nn.relu(logits_1)\n",
    "\n",
    "  # Dropout\n",
    "  dropped_output_1 = tf.nn.dropout(x=output_1,\n",
    "                                   keep_prob=keep_prob, seed=seed)\n",
    "\n",
    "  # Second Layer\n",
    "  weights_2 = tf.Variable(tf.truncated_normal([size_of_hidden, num_labels], seed=seed))\n",
    "  biases_2 = tf.Variable(tf.zeros([num_labels])) \n",
    "  logits_2 = tf.matmul(dropped_output_1, weights_2) + biases_2\n",
    "\n",
    "  loss = tf.reduce_mean(\n",
    "    tf.nn.softmax_cross_entropy_with_logits(logits=logits_2, labels=tf_train_labels)) \\\n",
    "    + l2_lambda * (tf.nn.l2_loss(weights_1) + tf.nn.l2_loss(weights_2))\n",
    "  \n",
    "  # Optimizer\n",
    "  optimizer = tf.train.GradientDescentOptimizer(0.5).minimize(loss)\n",
    "  \n",
    "  train_prediction = tf.nn.softmax(logits_2)\n",
    "  valid_prediction = tf.nn.softmax(tf.matmul(\n",
    "    tf.nn.relu(tf.matmul(tf_valid_dataset, weights_1) + biases_1),\n",
    "    weights_2) + biases_2)\n",
    "  test_prediction = tf.nn.softmax(tf.matmul(\n",
    "    tf.nn.relu(tf.matmul(tf_test_dataset, weights_1) + biases_1),\n",
    "    weights_2) + biases_2)"
   ]
  },
  {
   "cell_type": "code",
   "execution_count": 14,
   "metadata": {
    "collapsed": false
   },
   "outputs": [
    {
     "name": "stdout",
     "output_type": "stream",
     "text": [
      "WARNING:tensorflow:From <ipython-input-14-5c903d2a97c4>:4: initialize_all_variables (from tensorflow.python.ops.variables) is deprecated and will be removed after 2017-03-02.\n",
      "Instructions for updating:\n",
      "Use `tf.global_variables_initializer` instead.\n",
      "Initialized\n",
      "Minibatch loss at step 0: 434.444031\n",
      "Minibatch accuracy: 13.3%\n",
      "Validation accuracy: 41.9%\n",
      "Minibatch loss at step 500: 0.000000\n",
      "Minibatch accuracy: 100.0%\n",
      "Validation accuracy: 71.3%\n",
      "Minibatch loss at step 1000: 0.000000\n",
      "Minibatch accuracy: 100.0%\n",
      "Validation accuracy: 73.1%\n",
      "Minibatch loss at step 1500: 0.022293\n",
      "Minibatch accuracy: 99.2%\n",
      "Validation accuracy: 72.9%\n",
      "Minibatch loss at step 2000: 0.000000\n",
      "Minibatch accuracy: 100.0%\n",
      "Validation accuracy: 73.0%\n",
      "Minibatch loss at step 2500: 0.000000\n",
      "Minibatch accuracy: 100.0%\n",
      "Validation accuracy: 73.6%\n",
      "Minibatch loss at step 3000: 0.000000\n",
      "Minibatch accuracy: 100.0%\n",
      "Validation accuracy: 73.2%\n",
      "Test accuracy: 79.7%\n"
     ]
    }
   ],
   "source": [
    "num_steps = 3001\n",
    "\n",
    "with tf.Session(graph=graph) as session:\n",
    "  tf.initialize_all_variables().run()\n",
    "  print(\"Initialized\")\n",
    "    \n",
    "  for step in range(num_steps):\n",
    "    offset = (step * batch_size) % (train_labels.shape[0]/500 - batch_size)\n",
    "\n",
    "    batch_data = train_dataset[offset:(offset + batch_size), :]\n",
    "    batch_labels = train_labels[offset:(offset + batch_size), :]\n",
    "\n",
    "    feed_dict = {tf_train_dataset : batch_data, tf_train_labels : batch_labels}\n",
    "    _, l, predictions = session.run([optimizer, loss, train_prediction], feed_dict=feed_dict)\n",
    "    \n",
    "    if (step % 500 == 0):\n",
    "      print(\"Minibatch loss at step %d: %f\" % (step, l))\n",
    "      print(\"Minibatch accuracy: %.1f%%\" % accuracy(predictions, batch_labels))\n",
    "      print(\"Validation accuracy: %.1f%%\" % accuracy(valid_prediction.eval(), valid_labels))\n",
    "    \n",
    "  print(\"Test accuracy: %.1f%%\" % accuracy(test_prediction.eval(), test_labels))"
   ]
  },
  {
   "cell_type": "markdown",
   "metadata": {},
   "source": [
    "Learning Rate\n",
    "=============\n",
    "\n",
    "Let's add one more layer and use learning rate decay (exponential)."
   ]
  },
  {
   "cell_type": "code",
   "execution_count": 9,
   "metadata": {
    "collapsed": true
   },
   "outputs": [],
   "source": [
    "seed = 22\n",
    "batch_size = 128\n",
    "size_of_hidden = (1024, 500)\n",
    "l2_lambda = 1e-05\n",
    "keep_prob = 1.0\n",
    "\n",
    "initial_learning_rate = 0.4\n",
    "decay_steps = 1000\n",
    "decay_rate = 0.65\n",
    "\n",
    "first_stddev = np.sqrt(2.0/(image_size * image_size))\n",
    "second_stddev = np.sqrt(2.0/size_of_hidden[0])\n",
    "third_stddev = np.sqrt(2.0/size_of_hidden[1])\n",
    "\n",
    "graph = tf.Graph()\n",
    "with graph.as_default():\n",
    "  tf_train_dataset = tf.placeholder(tf.float32,shape=(batch_size, image_size * image_size))\n",
    "  tf_train_labels = tf.placeholder(tf.float32, shape=(batch_size, num_labels))\n",
    "  tf_valid_dataset = tf.constant(valid_dataset)\n",
    "  tf_test_dataset = tf.constant(test_dataset)\n",
    "    \n",
    "  global_step = tf.Variable(0)  # count the number of steps taken.\n",
    "\n",
    "  # First Layer\n",
    "  weights_1 = tf.Variable(tf.truncated_normal([image_size * image_size, size_of_hidden[0]], seed=seed,\n",
    "                                              stddev=first_stddev))\n",
    "  biases_1 = tf.Variable(tf.zeros([size_of_hidden[0]]))\n",
    "  logits_1 = tf.matmul(tf_train_dataset, weights_1) + biases_1\n",
    "  output_1 = tf.nn.relu(logits_1)\n",
    "\n",
    "  # First Dropout\n",
    "  dropped_output_1 = tf.nn.dropout(x=output_1, keep_prob=keep_prob, seed=seed)\n",
    "\n",
    "  # Second Layer\n",
    "  weights_2 = tf.Variable(tf.truncated_normal([size_of_hidden[0], size_of_hidden[1]], seed=seed,\n",
    "                                              stddev=second_stddev))\n",
    "  biases_2 = tf.Variable(tf.zeros([size_of_hidden[1]])) \n",
    "  logits_2 = tf.matmul(dropped_output_1, weights_2) + biases_2\n",
    "  output_2 = tf.nn.relu(logits_2)\n",
    "\n",
    "  # Second Dropout\n",
    "  dropped_output_2 = tf.nn.dropout(x=output_2, keep_prob=keep_prob, seed=seed)\n",
    "\n",
    "  # Third Layer\n",
    "  weights_3 = tf.Variable(tf.truncated_normal([size_of_hidden[1], num_labels], seed=seed,\n",
    "                                              stddev=third_stddev))\n",
    "  biases_3 = tf.Variable(tf.zeros([num_labels]))  \n",
    "  logits_3 = tf.matmul(dropped_output_2, weights_3) + biases_3\n",
    "\n",
    "  loss = tf.reduce_mean(\n",
    "    tf.nn.softmax_cross_entropy_with_logits(logits=logits_3, labels=tf_train_labels)) \\\n",
    "    + l2_lambda * (tf.nn.l2_loss(weights_1) + tf.nn.l2_loss(weights_2) + tf.nn.l2_loss(weights_3))\n",
    "  \n",
    "  # Optimizer\n",
    "  learning_rate = tf.train.exponential_decay(learning_rate=initial_learning_rate,\n",
    "                                             global_step=global_step,\n",
    "                                             decay_steps=decay_steps,\n",
    "                                             decay_rate=decay_rate)\n",
    "  optimizer = tf.train.GradientDescentOptimizer(learning_rate).minimize(loss, global_step=global_step)\n",
    "  \n",
    "  train_prediction = tf.nn.softmax(logits_3)\n",
    "    \n",
    "  valid_layer_1 = tf.nn.relu(tf.matmul(tf_valid_dataset, weights_1) + biases_1)\n",
    "  valid_layer_2 = tf.nn.relu(tf.matmul(valid_layer_1, weights_2) + biases_2)\n",
    "  valid_layer_3 = tf.matmul(valid_layer_2, weights_3) + biases_3\n",
    "  valid_prediction = tf.nn.softmax(valid_layer_3)\n",
    "    \n",
    "  test_layer_1 = tf.nn.relu(tf.matmul(tf_test_dataset, weights_1) + biases_1)\n",
    "  test_layer_2 = tf.nn.relu(tf.matmul(test_layer_1, weights_2) + biases_2)\n",
    "  test_layer_3 = tf.matmul(test_layer_2, weights_3) + biases_3\n",
    "  test_prediction = tf.nn.softmax(test_layer_3)"
   ]
  },
  {
   "cell_type": "code",
   "execution_count": 10,
   "metadata": {
    "collapsed": false
   },
   "outputs": [
    {
     "name": "stdout",
     "output_type": "stream",
     "text": [
      "WARNING:tensorflow:From <ipython-input-10-4da66cf2f64f>:4: initialize_all_variables (from tensorflow.python.ops.variables) is deprecated and will be removed after 2017-03-02.\n",
      "Instructions for updating:\n",
      "Use `tf.global_variables_initializer` instead.\n",
      "Initialized\n",
      "Minibatch loss at step 0: 2.374016\n",
      "Minibatch accuracy: 12.5%\n",
      "Validation accuracy: 43.7%\n",
      "Minibatch loss at step 500: 0.523942\n",
      "Minibatch accuracy: 84.4%\n",
      "Validation accuracy: 86.2%\n",
      "Minibatch loss at step 1000: 0.194567\n",
      "Minibatch accuracy: 93.8%\n",
      "Validation accuracy: 87.9%\n",
      "Minibatch loss at step 1500: 0.293029\n",
      "Minibatch accuracy: 93.0%\n",
      "Validation accuracy: 88.4%\n",
      "Minibatch loss at step 2000: 0.449229\n",
      "Minibatch accuracy: 87.5%\n",
      "Validation accuracy: 89.0%\n",
      "Minibatch loss at step 2500: 0.188007\n",
      "Minibatch accuracy: 96.9%\n",
      "Validation accuracy: 89.2%\n",
      "Minibatch loss at step 3000: 0.200096\n",
      "Minibatch accuracy: 93.8%\n",
      "Validation accuracy: 89.6%\n",
      "Test accuracy: 95.0%\n"
     ]
    }
   ],
   "source": [
    "num_steps = 3001\n",
    "\n",
    "with tf.Session(graph=graph) as session:\n",
    "  tf.initialize_all_variables().run()\n",
    "  print(\"Initialized\")\n",
    "    \n",
    "  for step in range(num_steps):\n",
    "    offset = (step * batch_size) % (train_labels.shape[0] - batch_size)\n",
    "\n",
    "    batch_data = train_dataset[offset:(offset + batch_size), :]\n",
    "    batch_labels = train_labels[offset:(offset + batch_size), :]\n",
    "\n",
    "    feed_dict = {tf_train_dataset : batch_data, tf_train_labels : batch_labels}\n",
    "    _, l, predictions = session.run([optimizer, loss, train_prediction], feed_dict=feed_dict)\n",
    "    \n",
    "    if (step % 500 == 0):\n",
    "      print(\"Minibatch loss at step %d: %f\" % (step, l))\n",
    "      print(\"Minibatch accuracy: %.1f%%\" % accuracy(predictions, batch_labels))\n",
    "      print(\"Validation accuracy: %.1f%%\" % accuracy(valid_prediction.eval(), valid_labels))\n",
    "    \n",
    "  print(\"Test accuracy: %.1f%%\" % accuracy(test_prediction.eval(), test_labels))"
   ]
  },
  {
   "cell_type": "code",
   "execution_count": null,
   "metadata": {
    "collapsed": true
   },
   "outputs": [],
   "source": []
  }
 ],
 "metadata": {
  "kernelspec": {
   "display_name": "Python 2",
   "language": "python",
   "name": "python2"
  },
  "language_info": {
   "codemirror_mode": {
    "name": "ipython",
    "version": 2
   },
   "file_extension": ".py",
   "mimetype": "text/x-python",
   "name": "python",
   "nbconvert_exporter": "python",
   "pygments_lexer": "ipython2",
   "version": "2.7.6"
  }
 },
 "nbformat": 4,
 "nbformat_minor": 0
}
