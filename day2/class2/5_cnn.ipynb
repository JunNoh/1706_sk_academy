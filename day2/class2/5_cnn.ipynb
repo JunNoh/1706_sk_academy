{
 "cells": [
  {
   "cell_type": "markdown",
   "metadata": {},
   "source": [
    "Convolutional Neural Network\n",
    "============="
   ]
  },
  {
   "cell_type": "code",
   "execution_count": 1,
   "metadata": {
    "collapsed": true
   },
   "outputs": [],
   "source": [
    "from __future__ import print_function\n",
    "import numpy as np\n",
    "import tensorflow as tf\n",
    "from six.moves import cPickle as pickle"
   ]
  },
  {
   "cell_type": "code",
   "execution_count": 2,
   "metadata": {
    "collapsed": false
   },
   "outputs": [
    {
     "name": "stdout",
     "output_type": "stream",
     "text": [
      "Training set (100000, 28, 28) (100000,)\n",
      "Validation set (10000, 28, 28) (10000,)\n",
      "Test set (10000, 28, 28) (10000,)\n"
     ]
    }
   ],
   "source": [
    "pickle_file = 'notMNIST.pickle'\n",
    "\n",
    "with open(pickle_file, 'rb') as f:\n",
    "  save = pickle.load(f)\n",
    "  train_dataset = save['train_dataset']\n",
    "  train_labels = save['train_labels']\n",
    "  valid_dataset = save['valid_dataset']\n",
    "  valid_labels = save['valid_labels']\n",
    "  test_dataset = save['test_dataset']\n",
    "  test_labels = save['test_labels']\n",
    "  del save\n",
    "\n",
    "  print('Training set', train_dataset.shape, train_labels.shape)\n",
    "  print('Validation set', valid_dataset.shape, valid_labels.shape)\n",
    "  print('Test set', test_dataset.shape, test_labels.shape)"
   ]
  },
  {
   "cell_type": "markdown",
   "metadata": {},
   "source": [
    "Reformat into a shape for convolutional neural network model:\n",
    "- convolutions need the image data formatted as a cube (width by height by #channels)\n",
    "- labels as float 1-hot encodings."
   ]
  },
  {
   "cell_type": "code",
   "execution_count": 3,
   "metadata": {
    "collapsed": false
   },
   "outputs": [
    {
     "name": "stdout",
     "output_type": "stream",
     "text": [
      "Training set (100000, 28, 28, 1) (100000, 10)\n",
      "Validation set (10000, 28, 28, 1) (10000, 10)\n",
      "Test set (10000, 28, 28, 1) (10000, 10)\n"
     ]
    }
   ],
   "source": [
    "image_size = 28\n",
    "num_labels = 10\n",
    "num_channels = 1 # grayscale\n",
    "\n",
    "def reformat(dataset, labels):\n",
    "  dataset = dataset.reshape((-1, image_size, image_size, num_channels)).astype(np.float32)\n",
    "  labels = (np.arange(num_labels) == labels[:,None]).astype(np.float32)\n",
    "  return dataset, labels\n",
    "\n",
    "train_dataset, train_labels = reformat(train_dataset, train_labels)\n",
    "valid_dataset, valid_labels = reformat(valid_dataset, valid_labels)\n",
    "test_dataset, test_labels = reformat(test_dataset, test_labels)\n",
    "\n",
    "print('Training set', train_dataset.shape, train_labels.shape)\n",
    "print('Validation set', valid_dataset.shape, valid_labels.shape)\n",
    "print('Test set', test_dataset.shape, test_labels.shape)"
   ]
  },
  {
   "cell_type": "code",
   "execution_count": 4,
   "metadata": {
    "collapsed": true
   },
   "outputs": [],
   "source": [
    "def accuracy(predictions, labels):\n",
    "  return (100.0 * np.sum(np.argmax(predictions, 1) == np.argmax(labels, 1)) / predictions.shape[0])"
   ]
  },
  {
   "cell_type": "markdown",
   "metadata": {},
   "source": [
    "Let's build a really simple CNN model with one convolutional layer, followed by one fully connected layer (because of the machine's small memory)."
   ]
  },
  {
   "cell_type": "code",
   "execution_count": 6,
   "metadata": {
    "collapsed": false
   },
   "outputs": [],
   "source": [
    "batch_size = 128\n",
    "patch_size = 5\n",
    "out_channel = 16\n",
    "hidden_node = 128\n",
    "\n",
    "initial_learning_rate = 0.4\n",
    "decay_steps = 1000\n",
    "decay_rate = 0.65\n",
    "keep_prob = 0.8\n",
    "l2_lambda = 0.0001\n",
    "\n",
    "graph = tf.Graph()\n",
    "\n",
    "with graph.as_default():\n",
    "  tf_train_dataset = tf.placeholder(tf.float32, shape=(batch_size, image_size, image_size, num_channels))\n",
    "  tf_train_labels = tf.placeholder(tf.float32, shape=(batch_size, num_labels))\n",
    "  tf_valid_dataset = tf.constant(valid_dataset)\n",
    "  tf_test_dataset = tf.constant(test_dataset)\n",
    "\n",
    "  global_step = tf.Variable(0)  # count the number of steps taken\n",
    "  \n",
    "  layer1_weights = tf.Variable(tf.truncated_normal([patch_size, patch_size, num_channels, out_channel], stddev=0.1))\n",
    "  layer1_biases = tf.Variable(tf.zeros([out_channel]))\n",
    "\n",
    "  layer2_weights = tf.Variable(tf.truncated_normal([image_size // 4 * image_size // 4 * out_channel, hidden_node], stddev=0.1))\n",
    "  layer2_biases = tf.Variable(tf.constant(0.01, shape=[hidden_node]))\n",
    "\n",
    "  layer3_weights = tf.Variable(tf.truncated_normal([hidden_node, num_labels], stddev=0.1))\n",
    "  layer3_biases = tf.Variable(tf.constant(0.01, shape=[num_labels]))\n",
    "  \n",
    "  def model(data):\n",
    "    conv = tf.nn.conv2d(data, filter=layer1_weights, strides=[1, 2, 2, 1], padding='SAME')\n",
    "    hidden = tf.nn.relu(conv + layer1_biases)\n",
    "    \n",
    "    pool = tf.nn.max_pool(hidden, ksize=[1, 2, 2, 1], strides=[1, 2, 2, 1], padding='SAME')\n",
    "    dropped = tf.nn.dropout(x=pool, keep_prob=keep_prob)\n",
    "    \n",
    "    shape = dropped.get_shape().as_list()\n",
    "    reshape = tf.reshape(dropped, [shape[0], shape[1] * shape[2] * shape[3]])\n",
    "    \n",
    "    hidden = tf.nn.relu(tf.matmul(reshape, layer2_weights) + layer2_biases)\n",
    "    dropped = tf.nn.dropout(x=hidden, keep_prob=keep_prob)\n",
    "    \n",
    "    return tf.matmul(dropped, layer3_weights) + layer3_biases\n",
    "  \n",
    "  logits = model(tf_train_dataset)\n",
    "  loss = tf.reduce_mean(\n",
    "    tf.nn.softmax_cross_entropy_with_logits(logits=logits, labels=tf_train_labels)) \\\n",
    "    + l2_lambda * (tf.nn.l2_loss(layer1_weights) + tf.nn.l2_loss(layer2_weights) + tf.nn.l2_loss(layer3_weights))\n",
    "    \n",
    "  learning_rate = tf.train.exponential_decay(learning_rate=initial_learning_rate,\n",
    "                                             global_step=global_step,\n",
    "                                             decay_steps=decay_steps,\n",
    "                                             decay_rate=decay_rate)\n",
    "  optimizer = tf.train.GradientDescentOptimizer(learning_rate).minimize(loss, global_step=global_step)\n",
    "  \n",
    "  train_prediction = tf.nn.softmax(logits)\n",
    "  valid_prediction = tf.nn.softmax(model(tf_valid_dataset))\n",
    "  test_prediction = tf.nn.softmax(model(tf_test_dataset))"
   ]
  },
  {
   "cell_type": "code",
   "execution_count": null,
   "metadata": {
    "collapsed": false
   },
   "outputs": [
    {
     "name": "stdout",
     "output_type": "stream",
     "text": [
      "WARNING:tensorflow:From <ipython-input-7-185e2b963c67>:4: initialize_all_variables (from tensorflow.python.ops.variables) is deprecated and will be removed after 2017-03-02.\n",
      "Instructions for updating:\n",
      "Use `tf.global_variables_initializer` instead.\n",
      "Initialized\n",
      "Minibatch loss at step 0: 2.418701\n",
      "Minibatch accuracy: 11.7%\n",
      "Validation accuracy: 16.1%\n",
      "Minibatch loss at step 500: 0.666534\n",
      "Minibatch accuracy: 84.4%\n",
      "Validation accuracy: 84.1%\n",
      "Minibatch loss at step 1000: 0.323115\n",
      "Minibatch accuracy: 93.0%\n",
      "Validation accuracy: 85.7%\n",
      "Minibatch loss at step 1500: 0.489066\n",
      "Minibatch accuracy: 85.9%\n",
      "Validation accuracy: 86.1%\n",
      "Minibatch loss at step 2000: 0.523000\n",
      "Minibatch accuracy: 85.2%\n",
      "Validation accuracy: 86.7%\n",
      "Minibatch loss at step 2500: 0.374181\n",
      "Minibatch accuracy: 90.6%\n",
      "Validation accuracy: 87.3%\n",
      "Minibatch loss at step 3000: 0.408997\n",
      "Minibatch accuracy: 89.1%\n",
      "Validation accuracy: 87.0%\n",
      "Minibatch loss at step 3500: 0.422481\n",
      "Minibatch accuracy: 87.5%\n",
      "Validation accuracy: 87.4%\n",
      "Minibatch loss at step 4000: 0.554570\n",
      "Minibatch accuracy: 83.6%\n",
      "Validation accuracy: 87.4%\n",
      "Minibatch loss at step 4500: 0.361762\n",
      "Minibatch accuracy: 89.8%\n",
      "Validation accuracy: 87.7%\n",
      "Minibatch loss at step 5000: 0.483119\n",
      "Minibatch accuracy: 86.7%\n",
      "Validation accuracy: 87.6%\n",
      "Minibatch loss at step 5500: 0.478391\n",
      "Minibatch accuracy: 85.2%\n",
      "Validation accuracy: 87.8%\n",
      "Minibatch loss at step 6000: 0.465758\n",
      "Minibatch accuracy: 89.1%\n",
      "Validation accuracy: 87.8%\n",
      "Minibatch loss at step 6500: 0.490830\n",
      "Minibatch accuracy: 88.3%\n",
      "Validation accuracy: 87.8%\n",
      "Minibatch loss at step 7000: 0.297310\n",
      "Minibatch accuracy: 92.2%\n",
      "Validation accuracy: 87.8%\n",
      "Minibatch loss at step 7500: 0.384933\n",
      "Minibatch accuracy: 89.8%\n",
      "Validation accuracy: 88.1%\n",
      "Minibatch loss at step 8000: 0.580585\n",
      "Minibatch accuracy: 85.2%\n",
      "Validation accuracy: 87.5%\n",
      "Minibatch loss at step 8500: 0.492316\n",
      "Minibatch accuracy: 87.5%\n",
      "Validation accuracy: 87.6%\n",
      "Minibatch loss at step 9000: 0.349354\n",
      "Minibatch accuracy: 89.8%\n",
      "Validation accuracy: 88.2%\n",
      "Minibatch loss at step 9500: 0.293407\n",
      "Minibatch accuracy: 93.8%\n",
      "Validation accuracy: 88.0%\n"
     ]
    }
   ],
   "source": [
    "num_steps = 10001\n",
    "\n",
    "with tf.Session(graph=graph) as session:\n",
    "  tf.initialize_all_variables().run()\n",
    "  print(\"Initialized\")\n",
    "    \n",
    "  for step in range(num_steps):\n",
    "    offset = (step * batch_size) % (train_labels.shape[0] - batch_size)\n",
    "\n",
    "    batch_data = train_dataset[offset:(offset + batch_size), :]\n",
    "    batch_labels = train_labels[offset:(offset + batch_size), :]\n",
    "\n",
    "    feed_dict = {tf_train_dataset : batch_data, tf_train_labels : batch_labels}\n",
    "    _, l, predictions = session.run([optimizer, loss, train_prediction], feed_dict=feed_dict)\n",
    "    \n",
    "    if (step % 500 == 0):\n",
    "      print(\"Minibatch loss at step %d: %f\" % (step, l))\n",
    "      print(\"Minibatch accuracy: %.1f%%\" % accuracy(predictions, batch_labels))\n",
    "      print(\"Validation accuracy: %.1f%%\" % accuracy(valid_prediction.eval(), valid_labels))\n",
    "    \n",
    "  print(\"Test accuracy: %.1f%%\" % accuracy(test_prediction.eval(), test_labels))"
   ]
  },
  {
   "cell_type": "markdown",
   "metadata": {},
   "source": [
    "Below model is too complex (large) to be loaded in current virtual environment. Therefore, please try it from other machine or after expanding the memory of virtual environment. "
   ]
  },
  {
   "cell_type": "code",
   "execution_count": null,
   "metadata": {
    "collapsed": true
   },
   "outputs": [],
   "source": [
    "batch_size = 128\n",
    "patch_size = 5\n",
    "depth_first = 6\n",
    "depth_second = 16\n",
    "hidden_first = 128\n",
    "hidden_second = 84\n",
    "\n",
    "initial_learning_rate = 0.4\n",
    "decay_steps = 1000\n",
    "decay_rate = 0.65\n",
    "keep_prob = 0.8\n",
    "\n",
    "graph = tf.Graph()\n",
    "\n",
    "with graph.as_default():\n",
    "  tf_train_dataset = tf.placeholder(tf.float32, shape=(batch_size, image_size, image_size, num_channels))\n",
    "  tf_train_labels = tf.placeholder(tf.float32, shape=(batch_size, num_labels))\n",
    "  tf_valid_dataset = tf.constant(valid_dataset)\n",
    "  tf_test_dataset = tf.constant(test_dataset)\n",
    "\n",
    "  global_step = tf.Variable(0)\n",
    "  \n",
    "  layer1_weights = tf.Variable(tf.truncated_normal([patch_size, patch_size, num_channels, depth_first], stddev=0.1))\n",
    "  layer1_biases = tf.Variable(tf.zeros([depth_first]))\n",
    "\n",
    "  layer2_weights = tf.Variable(tf.truncated_normal([patch_size, patch_size, depth_first, depth_second], stddev=0.1))\n",
    "  layer2_biases = tf.Variable(tf.constant(0.01, shape=[depth_second]))\n",
    "\n",
    "  layer3_weights = tf.Variable(tf.truncated_normal([image_size // 4 * image_size // 4 * depth_second, hidden_first], stddev=0.1))\n",
    "  layer3_biases = tf.Variable(tf.constant(0.01, shape=[hidden_first]))\n",
    "\n",
    "  layer4_weights = tf.Variable(tf.truncated_normal([hidden_first, hidden_second], stddev=0.1))\n",
    "  layer4_biases = tf.Variable(tf.constant(0.01, shape=[hidden_second]))\n",
    "\n",
    "  layer5_weights = tf.Variable(tf.truncated_normal([hidden_second, num_labels], stddev=0.1))\n",
    "  layer5_biases = tf.Variable(tf.constant(0.01, shape=[num_labels]))\n",
    "  \n",
    "  def model(data):\n",
    "    conv = tf.nn.conv2d(data, layer1_weights, [1, 1, 1, 1], padding='SAME')\n",
    "    hidden = tf.nn.relu(conv + layer1_biases)\n",
    "    pool = tf.nn.max_pool(hidden, ksize=[1, 2, 2, 1], strides=[1, 2, 2, 1], padding='SAME')\n",
    "    dropped = tf.nn.dropout(x=pool, keep_prob=keep_prob)\n",
    "    \n",
    "    conv = tf.nn.conv2d(dropped, layer2_weights, [1, 1, 1, 1], padding='SAME')\n",
    "    hidden = tf.nn.relu(conv + layer2_biases)\n",
    "    pool = tf.nn.max_pool(hidden, ksize=[1, 2, 2, 1], strides=[1, 2, 2, 1], padding='SAME')\n",
    "    dropped = tf.nn.dropout(x=pool, keep_prob=keep_prob)\n",
    "    \n",
    "    shape = dropped.get_shape().as_list()\n",
    "    reshape = tf.reshape(dropped, [shape[0], shape[1] * shape[2] * shape[3]])\n",
    "    \n",
    "    hidden = tf.nn.relu(tf.matmul(reshape, layer3_weights) + layer3_biases)\n",
    "    dropped = tf.nn.dropout(x=hidden, keep_prob=keep_prob)\n",
    "    \n",
    "    hidden = tf.nn.relu(tf.matmul(dropped, layer4_weights) + layer4_biases)\n",
    "    dropped = tf.nn.dropout(x=hidden, keep_prob=keep_prob)\n",
    "    \n",
    "    return tf.matmul(dropped, layer5_weights) + layer5_biases\n",
    "  \n",
    "  logits = model(tf_train_dataset)\n",
    "  loss = tf.reduce_mean(\n",
    "    tf.nn.softmax_cross_entropy_with_logits(logits=logits, labels=tf_train_labels))\n",
    "    \n",
    "  learning_rate = tf.train.exponential_decay(learning_rate=initial_learning_rate,\n",
    "                                             global_step=global_step,\n",
    "                                             decay_steps=decay_steps,\n",
    "                                             decay_rate=decay_rate)\n",
    "  optimizer = tf.train.GradientDescentOptimizer(learning_rate).minimize(loss, global_step=global_step)\n",
    "  \n",
    "  train_prediction = tf.nn.softmax(logits)\n",
    "  valid_prediction = tf.nn.softmax(model(tf_valid_dataset))\n",
    "  test_prediction = tf.nn.softmax(model(tf_test_dataset))"
   ]
  },
  {
   "cell_type": "code",
   "execution_count": null,
   "metadata": {
    "collapsed": true
   },
   "outputs": [],
   "source": [
    "# num_steps = 5001\n",
    "\n",
    "# with tf.Session(graph=graph) as session:\n",
    "#   tf.initialize_all_variables().run()\n",
    "#   print(\"Initialized\")\n",
    "    \n",
    "#   for step in range(num_steps):\n",
    "#     offset = (step * batch_size) % (train_labels.shape[0] - batch_size)\n",
    "\n",
    "#     batch_data = train_dataset[offset:(offset + batch_size), :]\n",
    "#     batch_labels = train_labels[offset:(offset + batch_size), :]\n",
    "\n",
    "#     feed_dict = {tf_train_dataset : batch_data, tf_train_labels : batch_labels}\n",
    "#     _, l, predictions = session.run([optimizer, loss, train_prediction], feed_dict=feed_dict)\n",
    "    \n",
    "#     if (step % 500 == 0):\n",
    "#       print(\"Minibatch loss at step %d: %f\" % (step, l))\n",
    "#       print(\"Minibatch accuracy: %.1f%%\" % accuracy(predictions, batch_labels))\n",
    "#       print(\"Validation accuracy: %.1f%%\" % accuracy(valid_prediction.eval(), valid_labels))\n",
    "    \n",
    "#   print(\"Test accuracy: %.1f%%\" % accuracy(test_prediction.eval(), test_labels))"
   ]
  }
 ],
 "metadata": {
  "kernelspec": {
   "display_name": "Python 2",
   "language": "python",
   "name": "python2"
  },
  "language_info": {
   "codemirror_mode": {
    "name": "ipython",
    "version": 2
   },
   "file_extension": ".py",
   "mimetype": "text/x-python",
   "name": "python",
   "nbconvert_exporter": "python",
   "pygments_lexer": "ipython2",
   "version": "2.7.6"
  }
 },
 "nbformat": 4,
 "nbformat_minor": 0
}
